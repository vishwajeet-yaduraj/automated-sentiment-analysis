{
 "cells": [
  {
   "cell_type": "code",
   "execution_count": 1,
   "id": "a2721032-646b-4a70-9eb6-0eb5f0d76318",
   "metadata": {},
   "outputs": [],
   "source": [
    "from bs4 import BeautifulSoup\n",
    "import requests\n",
    "import pandas as pd"
   ]
  },
  {
   "cell_type": "code",
   "execution_count": 2,
   "id": "b168c141-581a-49fa-b950-826f8a440feb",
   "metadata": {},
   "outputs": [
    {
     "name": "stdin",
     "output_type": "stream",
     "text": [
      "Enter Product Url:  https://amzn.in/d/hWrUy8A\n"
     ]
    }
   ],
   "source": [
    "product_url = input(\"Enter Product Url: \")"
   ]
  },
  {
   "cell_type": "code",
   "execution_count": 3,
   "id": "a780331a-5f79-47b2-873f-e7b22abacbc6",
   "metadata": {},
   "outputs": [],
   "source": [
    "base_url = \"https://www.amazon.in\"\n",
    "# product_url = \"https://amzn.in/d/f7CUrnX\""
   ]
  },
  {
   "cell_type": "code",
   "execution_count": 4,
   "id": "d214f4e7-7878-4e24-91d4-4574750cc0b3",
   "metadata": {},
   "outputs": [],
   "source": [
    "def make_soup(url):\n",
    "    response = requests.get(\"http://localhost:8050/render.html\", params={'url':url,'wait': 5, 'timeout': 60,'images':0})\n",
    "    if response.status_code != 200:\n",
    "        raise Exception(\"Error! Loading the url page\")\n",
    "    soup = BeautifulSoup(response.text,'html.parser')\n",
    "    return soup"
   ]
  },
  {
   "cell_type": "code",
   "execution_count": 5,
   "id": "f4143be9-5f56-4870-833c-c418f50c5985",
   "metadata": {},
   "outputs": [],
   "source": [
    "def get_first_review_page(product_url):\n",
    "    soup = make_soup(product_url)\n",
    "    review_first_url = base_url + soup.find('a',{'class': 'a-link-emphasis a-text-bold'}).get('href')\n",
    "    return review_first_url"
   ]
  },
  {
   "cell_type": "code",
   "execution_count": 6,
   "id": "9f1b27b1-da80-414a-bd30-55c07eb389cc",
   "metadata": {},
   "outputs": [],
   "source": [
    "def get_next_page(url):\n",
    "    # input should be first page(ideal) or any review page\n",
    "    soup = make_soup(url)\n",
    "    next_page = base_url + soup.find('li',class_= 'a-last').a.get('href')\n",
    "    return next_page   "
   ]
  },
  {
   "cell_type": "code",
   "execution_count": 7,
   "id": "6e5f4243-099d-4def-adc5-0446c50ce2a2",
   "metadata": {},
   "outputs": [],
   "source": [
    "users = []\n",
    "stars = []\n",
    "title_review = []\n",
    "reviews = []"
   ]
  },
  {
   "cell_type": "code",
   "execution_count": 8,
   "id": "4a21d37c-250c-4767-874d-ef5aa2bc6dba",
   "metadata": {},
   "outputs": [],
   "source": [
    "def get_stars(soup):\n",
    "    all_div = soup.find_all('div',{'data-hook':'review'})\n",
    "    for div in all_div:\n",
    "        texts = div.find('a',{'data-hook':'review-title'}).text\n",
    "        stars.append(texts.split(\"\\n\")[0][0])"
   ]
  },
  {
   "cell_type": "code",
   "execution_count": 9,
   "id": "179f264d-fa98-4d90-8dfd-ec49684c94f3",
   "metadata": {},
   "outputs": [],
   "source": [
    "def get_users(soup):\n",
    "    all_div = soup.find_all('div',{'data-hook':'review'})\n",
    "    for div in all_div:\n",
    "        curr_user = div.find('span',class_='a-profile-name').text.strip()\n",
    "        users.append(curr_user)"
   ]
  },
  {
   "cell_type": "code",
   "execution_count": 10,
   "id": "2db1b6bd-9fab-4b4c-b546-30a15a47ff74",
   "metadata": {},
   "outputs": [],
   "source": [
    "def get_title_review(soup):\n",
    "    all_div = soup.find_all('div',{'data-hook':'review'})\n",
    "    for div in all_div:\n",
    "        texts = div.find('a',{'data-hook':'review-title'}).text\n",
    "        title_review.append(texts.strip().split(\"\\n\")[1])"
   ]
  },
  {
   "cell_type": "code",
   "execution_count": 11,
   "id": "46b89222-2ac4-415f-ba4e-6516779d528b",
   "metadata": {},
   "outputs": [],
   "source": [
    "def get_reviews(soup):\n",
    "    all_div = soup.find_all('div',{'data-hook':'review'})\n",
    "    for item in all_div:\n",
    "        review = item.find('span', {'data-hook':'review-body'}).text.strip()\n",
    "        reviews.append(review)"
   ]
  },
  {
   "cell_type": "code",
   "execution_count": 12,
   "id": "d10ba5de-a6f5-4abe-8a01-f43aa07672f7",
   "metadata": {},
   "outputs": [],
   "source": [
    "def fill_inputs(review_soup):\n",
    "    get_title_review(review_soup)\n",
    "    get_reviews(review_soup)\n",
    "    get_stars(review_soup)\n",
    "    get_users(review_soup)"
   ]
  },
  {
   "cell_type": "code",
   "execution_count": 13,
   "id": "4e14a576-9c04-47e2-b36a-ec068ae27ad1",
   "metadata": {},
   "outputs": [],
   "source": [
    "def get_all_pages(product_url):\n",
    "    review_first_page = get_first_review_page(product_url)\n",
    "    # review_soup = make_soup(review_first_page)\n",
    "    for r in range(1,10):\n",
    "        review_soup = make_soup(review_first_page)\n",
    "        fill_inputs(review_soup)\n",
    "        print(\"Done with page:\",r)\n",
    "        if review_soup.find('li',{'class':'a-disabled a-last'}):\n",
    "            print(\"No more pages left...\")\n",
    "            return\n",
    "        next_url = get_next_page(review_first_page)\n",
    "        review_first_page = next_url"
   ]
  },
  {
   "cell_type": "code",
   "execution_count": 14,
   "id": "fdfbe9f7-cffb-49fa-8a53-9b8861004b81",
   "metadata": {},
   "outputs": [],
   "source": [
    "def make_review_df():\n",
    "    get_all_pages(product_url)\n",
    "    my_dict = {\n",
    "        'user':users,\n",
    "        'title_review':title_review,\n",
    "        'review':reviews,\n",
    "        'star':stars,\n",
    "    }\n",
    "    return pd.DataFrame(my_dict)"
   ]
  },
  {
   "cell_type": "code",
   "execution_count": 15,
   "id": "5531bac9-f6c9-4fb1-98c1-39e1425e004d",
   "metadata": {},
   "outputs": [],
   "source": [
    "def save_review(name):\n",
    "    df = make_review_df()\n",
    "    df.to_excel(f\"{name}.xlsx\", index=False)"
   ]
  },
  {
   "cell_type": "code",
   "execution_count": 16,
   "id": "a523859a-7e20-4371-9ed3-325aa2c6d8f1",
   "metadata": {},
   "outputs": [
    {
     "name": "stdin",
     "output_type": "stream",
     "text": [
      "Choose a name for your review file: oneplus_11r\n"
     ]
    },
    {
     "name": "stdout",
     "output_type": "stream",
     "text": [
      "Done with page: 1\n",
      "Done with page: 2\n",
      "Done with page: 3\n",
      "Done with page: 4\n",
      "Done with page: 5\n",
      "No more pages left...\n"
     ]
    }
   ],
   "source": [
    "name = input(\"Choose a name for your review file:\")\n",
    "save_review(name)"
   ]
  },
  {
   "cell_type": "code",
   "execution_count": 17,
   "id": "a1cdb129-6c96-48e8-9797-b1bd98b7f153",
   "metadata": {},
   "outputs": [
    {
     "data": {
      "text/html": [
       "<div>\n",
       "<style scoped>\n",
       "    .dataframe tbody tr th:only-of-type {\n",
       "        vertical-align: middle;\n",
       "    }\n",
       "\n",
       "    .dataframe tbody tr th {\n",
       "        vertical-align: top;\n",
       "    }\n",
       "\n",
       "    .dataframe thead th {\n",
       "        text-align: right;\n",
       "    }\n",
       "</style>\n",
       "<table border=\"1\" class=\"dataframe\">\n",
       "  <thead>\n",
       "    <tr style=\"text-align: right;\">\n",
       "      <th></th>\n",
       "      <th>user</th>\n",
       "      <th>title_review</th>\n",
       "      <th>review</th>\n",
       "      <th>star</th>\n",
       "    </tr>\n",
       "  </thead>\n",
       "  <tbody>\n",
       "    <tr>\n",
       "      <th>0</th>\n",
       "      <td>Vishal Shivapujimath</td>\n",
       "      <td>Go for it</td>\n",
       "      <td>I recently embarked on a journey to upgrade my...</td>\n",
       "      <td>5</td>\n",
       "    </tr>\n",
       "    <tr>\n",
       "      <th>1</th>\n",
       "      <td>Roshan</td>\n",
       "      <td>It is a complete package 📦 literally</td>\n",
       "      <td>It is my first phone above 15k so I was curiou...</td>\n",
       "      <td>5</td>\n",
       "    </tr>\n",
       "    <tr>\n",
       "      <th>2</th>\n",
       "      <td>Placeholder</td>\n",
       "      <td>Value for Money</td>\n",
       "      <td>The media could not be loaded.\\n              ...</td>\n",
       "      <td>4</td>\n",
       "    </tr>\n",
       "    <tr>\n",
       "      <th>3</th>\n",
       "      <td>Praveen</td>\n",
       "      <td>An absolute game changer for this price range.</td>\n",
       "      <td>This review is from my past 2week of experienc...</td>\n",
       "      <td>5</td>\n",
       "    </tr>\n",
       "    <tr>\n",
       "      <th>4</th>\n",
       "      <td>Gourav</td>\n",
       "      <td>Still worth buying in sep 2024 ?</td>\n",
       "      <td>I bought this phone in June, 2024. Here are fe...</td>\n",
       "      <td>5</td>\n",
       "    </tr>\n",
       "    <tr>\n",
       "      <th>5</th>\n",
       "      <td>venkat Raj</td>\n",
       "      <td>11r is The best 2023 All-rounder. Period.</td>\n",
       "      <td>Ok this review might be a bit long , but then ...</td>\n",
       "      <td>5</td>\n",
       "    </tr>\n",
       "    <tr>\n",
       "      <th>6</th>\n",
       "      <td>Tamanna Nalwala</td>\n",
       "      <td>Terrible Experience with OnePlus and Amazon - ...</td>\n",
       "      <td>I bought a OnePlus phone from Amazon, which ar...</td>\n",
       "      <td>1</td>\n",
       "    </tr>\n",
       "    <tr>\n",
       "      <th>7</th>\n",
       "      <td>kotreshkrishnamurthy H.</td>\n",
       "      <td>Nice Mobile</td>\n",
       "      <td>It great product, the camera, Display, and spe...</td>\n",
       "      <td>4</td>\n",
       "    </tr>\n",
       "    <tr>\n",
       "      <th>8</th>\n",
       "      <td>Yasin K.</td>\n",
       "      <td>Best phone within 30k budget</td>\n",
       "      <td>Best for gamingSpeedCharging speed 100wBut not...</td>\n",
       "      <td>4</td>\n",
       "    </tr>\n",
       "    <tr>\n",
       "      <th>9</th>\n",
       "      <td>shailesh bade</td>\n",
       "      <td>Average Quality</td>\n",
       "      <td>My extremely bad experience with AMAZON. I ord...</td>\n",
       "      <td>3</td>\n",
       "    </tr>\n",
       "  </tbody>\n",
       "</table>\n",
       "</div>"
      ],
      "text/plain": [
       "                      user                                       title_review  \\\n",
       "0     Vishal Shivapujimath                                          Go for it   \n",
       "1                   Roshan               It is a complete package 📦 literally   \n",
       "2              Placeholder                                    Value for Money   \n",
       "3                  Praveen     An absolute game changer for this price range.   \n",
       "4                   Gourav                   Still worth buying in sep 2024 ?   \n",
       "5               venkat Raj          11r is The best 2023 All-rounder. Period.   \n",
       "6          Tamanna Nalwala  Terrible Experience with OnePlus and Amazon - ...   \n",
       "7  kotreshkrishnamurthy H.                                        Nice Mobile   \n",
       "8                 Yasin K.                       Best phone within 30k budget   \n",
       "9            shailesh bade                                    Average Quality   \n",
       "\n",
       "                                              review  star  \n",
       "0  I recently embarked on a journey to upgrade my...     5  \n",
       "1  It is my first phone above 15k so I was curiou...     5  \n",
       "2  The media could not be loaded.\\n              ...     4  \n",
       "3  This review is from my past 2week of experienc...     5  \n",
       "4  I bought this phone in June, 2024. Here are fe...     5  \n",
       "5  Ok this review might be a bit long , but then ...     5  \n",
       "6  I bought a OnePlus phone from Amazon, which ar...     1  \n",
       "7  It great product, the camera, Display, and spe...     4  \n",
       "8  Best for gamingSpeedCharging speed 100wBut not...     4  \n",
       "9  My extremely bad experience with AMAZON. I ord...     3  "
      ]
     },
     "execution_count": 17,
     "metadata": {},
     "output_type": "execute_result"
    }
   ],
   "source": [
    "file_name = f\"{name}.xlsx\"\n",
    "data = pd.read_excel(file_name)\n",
    "data.head(10)"
   ]
  },
  {
   "cell_type": "code",
   "execution_count": 18,
   "id": "fc471cfa-920f-4c09-8de1-95fb414bb652",
   "metadata": {},
   "outputs": [
    {
     "data": {
      "text/plain": [
       "(50, 4)"
      ]
     },
     "execution_count": 18,
     "metadata": {},
     "output_type": "execute_result"
    }
   ],
   "source": [
    "data.shape"
   ]
  },
  {
   "cell_type": "code",
   "execution_count": 38,
   "id": "f14c0812-6ebc-4244-896b-9f1dcae95a4e",
   "metadata": {},
   "outputs": [
    {
     "name": "stdout",
     "output_type": "stream",
     "text": [
      "Initialized empty Git repository in C:/Users/Vishwajeet Yaduraj/Desktop/Sem long 5/new day new suffering/.git/\n"
     ]
    }
   ],
   "source": [
    "!git init"
   ]
  },
  {
   "cell_type": "code",
   "execution_count": 42,
   "id": "5a849c6f-f87a-4f5e-83ed-263f920de890",
   "metadata": {},
   "outputs": [],
   "source": [
    "!git add suffering-with-docker.ipynb"
   ]
  },
  {
   "cell_type": "code",
   "execution_count": 44,
   "id": "33df8a9d-fae8-41af-b276-d300a8ec3039",
   "metadata": {},
   "outputs": [
    {
     "name": "stdout",
     "output_type": "stream",
     "text": [
      "On branch master\n",
      "\n",
      "Initial commit\n",
      "\n",
      "Untracked files:\n",
      "  (use \"git add <file>...\" to include in what will be committed)\n",
      "\t.ipynb_checkpoints/\n",
      "\tMI_bag.xlsx\n",
      "\tSuffering-with-docker.ipynb\n",
      "\tmilton_bootle.xlsx\n",
      "\toneplus_11r.xlsx\n",
      "\n",
      "nothing added to commit but untracked files present (use \"git add\" to track)\n"
     ]
    }
   ],
   "source": [
    "!git commit -m \"fetch 50 reviews\""
   ]
  },
  {
   "cell_type": "code",
   "execution_count": 54,
   "id": "ebc40272-2a64-4bd2-9a06-17fb74948dc8",
   "metadata": {},
   "outputs": [
    {
     "name": "stderr",
     "output_type": "stream",
     "text": [
      "error: remote origin already exists.\n"
     ]
    }
   ],
   "source": [
    "!git remote add origin https://github.com/vishwajeet-yaduraj/automated-sentiment-analysis.git"
   ]
  },
  {
   "cell_type": "code",
   "execution_count": 50,
   "id": "174476b0-98d4-41e3-8c03-1ef77c17a11d",
   "metadata": {},
   "outputs": [
    {
     "name": "stderr",
     "output_type": "stream",
     "text": [
      "warning: in the working copy of '.ipynb_checkpoints/Suffering-with-docker-checkpoint.ipynb', LF will be replaced by CRLF the next time Git touches it\n",
      "warning: in the working copy of 'Suffering-with-docker.ipynb', LF will be replaced by CRLF the next time Git touches it\n"
     ]
    }
   ],
   "source": [
    "!git add ."
   ]
  },
  {
   "cell_type": "code",
   "execution_count": 56,
   "id": "4f74a50c-b8f4-465e-ad2b-26a0568e5ba9",
   "metadata": {},
   "outputs": [],
   "source": [
    "!git branch -M main"
   ]
  },
  {
   "cell_type": "code",
   "execution_count": 58,
   "id": "7dd6407e-621f-4827-a0c0-b6f33126f0ee",
   "metadata": {},
   "outputs": [
    {
     "name": "stdout",
     "output_type": "stream",
     "text": [
      "On branch main\n",
      "\n",
      "No commits yet\n",
      "\n",
      "Changes to be committed:\n",
      "  (use \"git rm --cached <file>...\" to unstage)\n",
      "\tnew file:   .ipynb_checkpoints/Suffering-with-docker-checkpoint.ipynb\n",
      "\tnew file:   MI_bag.xlsx\n",
      "\tnew file:   Suffering-with-docker.ipynb\n",
      "\tnew file:   milton_bootle.xlsx\n",
      "\tnew file:   oneplus_11r.xlsx\n",
      "\n"
     ]
    }
   ],
   "source": [
    "!git status"
   ]
  },
  {
   "cell_type": "code",
   "execution_count": null,
   "id": "b0409ef8-bce6-4288-ad78-a9757443a3ae",
   "metadata": {},
   "outputs": [],
   "source": [
    "!git add"
   ]
  }
 ],
 "metadata": {
  "kernelspec": {
   "display_name": "Python 3 (ipykernel)",
   "language": "python",
   "name": "python3"
  },
  "language_info": {
   "codemirror_mode": {
    "name": "ipython",
    "version": 3
   },
   "file_extension": ".py",
   "mimetype": "text/x-python",
   "name": "python",
   "nbconvert_exporter": "python",
   "pygments_lexer": "ipython3",
   "version": "3.12.4"
  }
 },
 "nbformat": 4,
 "nbformat_minor": 5
}
